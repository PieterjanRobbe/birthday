{
 "cells": [
  {
   "cell_type": "markdown",
   "metadata": {},
   "source": [
    "# A Julia birthday"
   ]
  },
  {
   "cell_type": "markdown",
   "metadata": {},
   "source": [
    "Execute this notebook by repeatedly pressing shift + enter.\n",
    "\n",
    "First, load some packages (this might take a while if this is your first Julia notebook on Juliabox). "
   ]
  },
  {
   "cell_type": "code",
   "execution_count": null,
   "metadata": {},
   "outputs": [],
   "source": [
    "using PyPlot\n",
    "using Interact"
   ]
  },
  {
   "cell_type": "markdown",
   "metadata": {},
   "source": [
    "Next, read in the mesh."
   ]
  },
  {
   "cell_type": "code",
   "execution_count": null,
   "metadata": {},
   "outputs": [],
   "source": [
    "p = readdlm(\"mesh.node\");\n",
    "t = readdlm(\"mesh.elem\",Int64);\n",
    "b = readdlm(\"boundary.elem\",Int64); b = unique(b);"
   ]
  },
  {
   "cell_type": "markdown",
   "metadata": {},
   "source": [
    "Function to compute element stiffness matrices."
   ]
  },
  {
   "cell_type": "code",
   "execution_count": null,
   "metadata": {},
   "outputs": [],
   "source": [
    "function stiffness_matrix(vertices::Matrix{T}) where {T} \n",
    "    d = size(vertices,2)\n",
    "    M = vcat(ones(T,1,d+1),vertices')\n",
    "    G = M \\ vcat(zeros(T,1,d),eye(T,d))\n",
    "\n",
    "    return det(M) * Symmetric(G*G') / prod(1:d)\n",
    "end"
   ]
  },
  {
   "cell_type": "markdown",
   "metadata": {},
   "source": [
    "Function to compose the finite element matrix and right hand side. "
   ]
  },
  {
   "cell_type": "code",
   "execution_count": null,
   "metadata": {},
   "outputs": [],
   "source": [
    "function compose_fem_matrix(nodes::Matrix{T}, elements::Matrix{N}, f::Function, boundary::Vector{N}) where {T<:AbstractFloat,N<:Integer}\n",
    "    \n",
    "    nnodes,d = size(nodes)\n",
    "    b = zeros(nnodes)\n",
    "    I = Vector{Float64}()\n",
    "    J = Vector{Float64}()\n",
    "    V = Vector{Float64}()\n",
    "    \n",
    "    # loop over elements and compute element stiffness matrices\n",
    "    for e in 1:size(elements,1)\n",
    "        element = elements[e,:]\n",
    "        coords = nodes[element,:]\n",
    "        S = stiffness_matrix(coords)\n",
    "        for i in 1:d+1\n",
    "            for j in 1:d+1\n",
    "                push!(I,element[i])\n",
    "                push!(J,element[j])\n",
    "                push!(V,S[i,j])\n",
    "            end\n",
    "        end\n",
    "        M = vcat(ones(T,1,d+1),coords')\n",
    "        b[element] += det(M)*f(sum(coords,2)/4)/24\n",
    "    end\n",
    "    \n",
    "    # compose fem matrix\n",
    "    A = sparse(I,J,V)\n",
    "    \n",
    "    # apply Dirichlet condition \n",
    "    free_nodes = setdiff(1:nnodes,boundary)\n",
    "    A2 = speye(A)\n",
    "    A2[free_nodes,free_nodes] = A[free_nodes,free_nodes]\n",
    "    \n",
    "    return A2, b\n",
    "end"
   ]
  },
  {
   "cell_type": "markdown",
   "metadata": {},
   "source": [
    "Compose the FEM matrix..."
   ]
  },
  {
   "cell_type": "code",
   "execution_count": null,
   "metadata": {},
   "outputs": [],
   "source": [
    "A, v = compose_fem_matrix(p, t, x -> ones(size(x,1)), b)"
   ]
  },
  {
   "cell_type": "markdown",
   "metadata": {},
   "source": [
    "... and find a solution."
   ]
  },
  {
   "cell_type": "code",
   "execution_count": null,
   "metadata": {},
   "outputs": [],
   "source": [
    "f = A\\v\n",
    "f[b] = 0. # force boundary conditions towards 0"
   ]
  },
  {
   "cell_type": "markdown",
   "metadata": {},
   "source": [
    "Finally, use the `Interact` package to make an interactive plot of the solution.\n",
    "\n",
    "Use the sliders for the azimuth $\\theta$ and elevation $\\phi$ to change the view. It might take a while to update the plot..."
   ]
  },
  {
   "cell_type": "code",
   "execution_count": null,
   "metadata": {},
   "outputs": [],
   "source": [
    "fig = figure()\n",
    "@manipulate for θ = slider(0:20:360,value=260,label=\"θ\"), ϕ = slider(0:10:90,value=50,label=\"ϕ\")\n",
    "    withfig(fig) do\n",
    "        ax = subplot(111, projection=\"3d\")\n",
    "        ax[:azim] = θ; ax[:elev] = ϕ\n",
    "        plot_trisurf(p[:,1],p[:,2],f,triangles=t-1,cmap=get_cmap(\"viridis\"),edgecolors=\"k\",linewidth=0.1)\n",
    "    end\n",
    "end"
   ]
  }
 ],
 "metadata": {
  "kernelspec": {
   "display_name": "Julia 0.6.2",
   "language": "julia",
   "name": "julia-0.6"
  },
  "language_info": {
   "file_extension": ".jl",
   "mimetype": "application/julia",
   "name": "julia",
   "version": "0.6.2"
  }
 },
 "nbformat": 4,
 "nbformat_minor": 2
}
